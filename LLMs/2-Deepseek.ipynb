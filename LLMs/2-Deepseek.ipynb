{
 "cells": [
  {
   "cell_type": "code",
   "execution_count": null,
   "id": "9f080814-00a9-486e-82dd-ee081793b056",
   "metadata": {},
   "outputs": [],
   "source": [
    "### 使用提示词完成任务"
   ]
  },
  {
   "cell_type": "code",
   "execution_count": 1,
   "id": "8fdd044c-46fb-404c-846f-420cc41f19a2",
   "metadata": {},
   "outputs": [
    {
     "name": "stdout",
     "output_type": "stream",
     "text": [
      "==== Prompt ====\n",
      "\n",
      "# 目标\n",
      "\n",
      "你的任务是识别用户对手机流量套餐产品的选择条件。\n",
      "每种流量套餐产品包含三个属性：名称，月费价格，月流量。\n",
      "根据用户输入，识别用户在上述三种属性上的需求是什么。\n",
      "\n",
      "\n",
      "# 用户输入\n",
      "\n",
      "办个100G的套餐。\n",
      "\n",
      "\n",
      "================\n",
      "# 识别结果\n",
      "\n",
      "根据用户输入\"办个100G的套餐\"，可以识别出以下选择条件：\n",
      "\n",
      "1. 月流量需求：100GB\n",
      "   - 用户明确指定了需要100G的流量套餐\n",
      "   - 这是用户最核心的选择条件\n",
      "\n",
      "2. 其他属性：\n",
      "   - 名称：未提及具体偏好\n",
      "   - 月费价格：未提及具体金额要求\n",
      "\n",
      "用户主要关注的是流量大小这一属性，对其他两个属性(名称和价格)没有提出明确要求。\n"
     ]
    }
   ],
   "source": [
    "# 导入依赖库\n",
    "import dashscope\n",
    "import os\n",
    "\n",
    "# 从环境变量中获取 API Key\n",
    "dashscope.api_key = os.getenv('DASHSCOPE_API_KEY')\n",
    "\n",
    "# 基于 prompt 生成文本\n",
    "# 使用 deepseek-v3 模型\n",
    "def get_completion(prompt, model=\"deepseek-v3\"):\n",
    "    messages = [{\"role\": \"user\", \"content\": prompt}]    # 将 prompt 作为用户输入\n",
    "    response = dashscope.Generation.call(\n",
    "        model=model,\n",
    "        messages=messages,\n",
    "        result_format='message',  # 将输出设置为message形式\n",
    "        temperature=0,  # 模型输出的随机性，0 表示随机性最小\n",
    "    )\n",
    "    return response.output.choices[0].message.content  # 返回模型生成的文本\n",
    "    \n",
    "# 任务描述\n",
    "instruction = \"\"\"\n",
    "你的任务是识别用户对手机流量套餐产品的选择条件。\n",
    "每种流量套餐产品包含三个属性：名称，月费价格，月流量。\n",
    "根据用户输入，识别用户在上述三种属性上的需求是什么。\n",
    "\"\"\"\n",
    "\n",
    "# 用户输入\n",
    "input_text = \"\"\"\n",
    "办个100G的套餐。\n",
    "\"\"\"\n",
    "\n",
    "# prompt 模版。instruction 和 input_text 会被替换为上面的内容\n",
    "prompt = f\"\"\"\n",
    "# 目标\n",
    "{instruction}\n",
    "\n",
    "# 用户输入\n",
    "{input_text}\n",
    "\"\"\"\n",
    "\n",
    "print(\"==== Prompt ====\")\n",
    "print(prompt)\n",
    "print(\"================\")\n",
    "\n",
    "# 调用大模型\n",
    "response = get_completion(prompt)\n",
    "print(response)"
   ]
  },
  {
   "cell_type": "markdown",
   "id": "e4016166-d3b2-4ae3-a9cf-3725742d83ec",
   "metadata": {},
   "source": [
    "### JSON格式"
   ]
  },
  {
   "cell_type": "code",
   "execution_count": 2,
   "id": "ff756a92-cccb-440f-a192-c39cfbacc3cb",
   "metadata": {},
   "outputs": [
    {
     "name": "stdout",
     "output_type": "stream",
     "text": [
      "```json\n",
      "{\n",
      "  \"名称\": null,\n",
      "  \"月费价格\": null,\n",
      "  \"月流量\": \"100G\"\n",
      "}\n",
      "```\n"
     ]
    }
   ],
   "source": [
    "# 输出格式\n",
    "output_format = \"\"\"\n",
    "以 JSON 格式输出\n",
    "\"\"\"\n",
    "\n",
    "# 稍微调整下咒语，加入输出格式\n",
    "prompt = f\"\"\"\n",
    "# 目标\n",
    "{instruction}\n",
    "\n",
    "# 输出格式\n",
    "{output_format}\n",
    "\n",
    "# 用户输入\n",
    "{input_text}\n",
    "\"\"\"\n",
    "\n",
    "# 调用大模型，指定用 JSON mode 输出\n",
    "response = get_completion(prompt)\n",
    "print(response)"
   ]
  },
  {
   "cell_type": "markdown",
   "id": "44d3e30b-fda2-4d78-9fa8-56b0c36519d0",
   "metadata": {},
   "source": [
    "### CoT示例"
   ]
  },
  {
   "cell_type": "code",
   "execution_count": 4,
   "id": "d6bcfc8a-f2fb-4e02-8357-26454827bfbb",
   "metadata": {},
   "outputs": [
    {
     "name": "stdout",
     "output_type": "stream",
     "text": [
      "让我们一步一步分析客服的回答是否符合规范：\n",
      "\n",
      "1. 礼貌性：\n",
      "   - 使用了\"亲\"这样的网络用语，不符合\"必须用官方口吻，不能使用网络用语\"的要求\n",
      "   - 缺少正式的礼貌用语如\"您好\"等\n",
      "\n",
      "2. 官方口吻：\n",
      "   - \"亲\"是典型的网络用语，不符合官方口吻要求\n",
      "\n",
      "3. 信息准确性：\n",
      "   - 提到了正确的产品名称\"无限套餐\"\n",
      "   - 准确提到了月费300元\n",
      "   - 准确提到了月流量1000G\n",
      "   - 这部分信息是完整的\n",
      "\n",
      "4. 话题延续性：\n",
      "   - 以问句\"您感兴趣吗？\"结束，不是话题终结者\n",
      "\n",
      "主要问题在于使用了网络用语\"亲\"，这违反了\"必须用官方口吻，不能使用网络用语\"的规范。\n",
      "\n",
      "因此，最终判断是：N\n"
     ]
    }
   ],
   "source": [
    "instruction = \"\"\"\n",
    "给定一段用户与手机流量套餐客服的对话。\n",
    "你的任务是判断客服的回答是否符合下面的规范：\n",
    "\n",
    "- 必须有礼貌\n",
    "- 必须用官方口吻，不能使用网络用语\n",
    "- 介绍套餐时，必须准确提及产品名称、月费价格和月流量总量。上述信息缺失一项或多项，或信息与事实不符，都算信息不准确\n",
    "- 不可以是话题终结者\n",
    "\n",
    "已知产品包括：\n",
    "\n",
    "经济套餐：月费50元，月流量10G\n",
    "畅游套餐：月费180元，月流量100G\n",
    "无限套餐：月费300元，月流量1000G\n",
    "校园套餐：月费150元，月流量200G，限在校学生办理\n",
    "\"\"\"\n",
    "\n",
    "# 输出描述\n",
    "output_format = \"\"\"\n",
    "如果符合规范，输出：Y\n",
    "如果不符合规范，输出：N\n",
    "\"\"\"\n",
    "\n",
    "context = \"\"\"\n",
    "用户：你们有什么流量大的套餐\n",
    "客服：亲，我们现在正在推广无限套餐，每月300元就可以享受1000G流量，您感兴趣吗？\n",
    "\"\"\"\n",
    "\n",
    "#cot = \"\"\n",
    "cot = \"请一步一步分析对话\"\n",
    "\n",
    "prompt = f\"\"\"\n",
    "# 目标\n",
    "{instruction}\n",
    "{cot}\n",
    "\n",
    "# 输出格式\n",
    "{output_format}\n",
    "\n",
    "# 对话上下文\n",
    "{context}\n",
    "\"\"\"\n",
    "\n",
    "response = get_completion(prompt)\n",
    "print(response)"
   ]
  },
  {
   "cell_type": "markdown",
   "id": "2be29190-d711-40e2-9c37-153d564480dc",
   "metadata": {},
   "source": [
    "### 使用Prompt调优Prompt"
   ]
  },
  {
   "cell_type": "code",
   "execution_count": 5,
   "id": "3310fe94-d4b3-4d3b-9d52-89c9f2047973",
   "metadata": {},
   "outputs": [
    {
     "name": "stdout",
     "output_type": "stream",
     "text": [
      "# 优化后的提示词\n",
      "\n",
      "作为专业客服代表\"小瓜\"，你需要：\n",
      "1. 热情友好地介绍自己（\"您好！我是流量套餐顾问小瓜\"）\n",
      "2. 主动询问用户需求（每月预算、流量使用量、是否在校生等）\n",
      "3. 根据以下套餐信息提供个性化推荐：\n",
      "   - 经济套餐：50元/月，10G\n",
      "   - 畅游套餐：180元/月，100G \n",
      "   - 无限套餐：300元/月，1000G\n",
      "   - 校园套餐：150元/月，200G（需验证学生身份）\n",
      "4. 解释套餐差异时使用简单对比（如\"如果您每月用15G，畅游套餐比经济套餐更划算\"）\n",
      "5. 提供专业建议但尊重用户选择\n",
      "6. 结束时确认用户是否满意（\"您对推荐还满意吗？\"）\n",
      "\n",
      "# 优化建议\n",
      "\n",
      "1. 角色定位：原提示缺乏明确的客服行为准则，建议增加问候语、需求分析和结束确认等标准服务流程\n",
      "2. 交互设计：应设计引导式提问而非被动应答，通过问题了解用户真实需求\n",
      "3. 信息呈现：建议增加对比分析能力，帮助用户理解不同套餐的性价比\n",
      "4. 个性化：需要强调根据用户具体情况进行推荐，避免机械式回答\n",
      "5. 验证机制：对校园套餐应说明需要验证学生身份的具体流程\n",
      "\n",
      "# 问题示例\n",
      "\n",
      "1. 您每月大概使用多少流量？我可以帮您分析哪个套餐最经济实惠\n",
      "2. 请问您是不是在校学生？我们有针对学生的特别优惠\n",
      "3. 您更看重流量额度还是价格优惠？我可以针对您的优先级来推荐\n"
     ]
    }
   ],
   "source": [
    "user_prompt = \"\"\"\n",
    "做一个手机流量套餐的客服代表，叫小瓜。可以帮助用户选择最合适的流量套餐产品。可以选择的套餐包括：\n",
    "经济套餐，月费50元，10G流量；\n",
    "畅游套餐，月费180元，100G流量；\n",
    "无限套餐，月费300元，1000G流量；\n",
    "校园套餐，月费150元，200G流量，仅限在校生。\"\"\"\n",
    "\n",
    "instruction = \"\"\"\n",
    "你是一名专业的提示词创作者。你的目标是帮助我根据需求打造更好的提示词。\n",
    "\n",
    "你将生成以下部分：\n",
    "提示词：{根据我的需求提供更好的提示词}\n",
    "优化建议：{用简练段落分析如何改进提示词，需给出严格批判性建议}\n",
    "问题示例：{提出最多3个问题，以用于和用户更好的交流}\n",
    "\"\"\"\n",
    "\n",
    "prompt = f\"\"\"\n",
    "# 目标\n",
    "{instruction}\n",
    "\n",
    "# 用户提示词\n",
    "{user_prompt}\n",
    "\"\"\"\n",
    "\n",
    "response = get_completion(prompt)\n",
    "print(response)"
   ]
  }
 ],
 "metadata": {
  "kernelspec": {
   "display_name": "Python 3 (ipykernel)",
   "language": "python",
   "name": "python3"
  },
  "language_info": {
   "codemirror_mode": {
    "name": "ipython",
    "version": 3
   },
   "file_extension": ".py",
   "mimetype": "text/x-python",
   "name": "python",
   "nbconvert_exporter": "python",
   "pygments_lexer": "ipython3",
   "version": "3.11.6"
  }
 },
 "nbformat": 4,
 "nbformat_minor": 5
}
