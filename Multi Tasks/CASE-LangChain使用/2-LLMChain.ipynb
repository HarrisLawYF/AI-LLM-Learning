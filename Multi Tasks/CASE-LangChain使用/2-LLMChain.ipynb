{
 "cells": [
  {
   "cell_type": "code",
   "execution_count": 1,
   "id": "9b8b5249",
   "metadata": {},
   "outputs": [
    {
     "name": "stderr",
     "output_type": "stream",
     "text": [
      "C:\\Users\\cheny\\AppData\\Local\\Temp\\ipykernel_46524\\4146286075.py:29: LangChainDeprecationWarning: LangChain agents will continue to be supported, but it is recommended for new use cases to be built with LangGraph. LangGraph offers a more flexible and full-featured framework for building agents, including support for tool-calling, persistence of state, and human-in-the-loop workflows. For details, refer to the `LangGraph documentation <https://langchain-ai.github.io/langgraph/>`_ as well as guides for `Migrating from AgentExecutor <https://python.langchain.com/docs/how_to/migrate_agent/>`_ and LangGraph's `Pre-built ReAct agent <https://langchain-ai.github.io/langgraph/how-tos/create-react-agent/>`_.\n",
      "  agent = initialize_agent(tools, llm, agent=AgentType.ZERO_SHOT_REACT_DESCRIPTION, verbose=True)\n",
      "C:\\Users\\cheny\\AppData\\Local\\Temp\\ipykernel_46524\\4146286075.py:32: LangChainDeprecationWarning: The method `Chain.run` was deprecated in langchain 0.1.0 and will be removed in 1.0. Use :meth:`~invoke` instead.\n",
      "  agent.run(\"今天是几月几号?历史上的今天有哪些名人出生\")\n"
     ]
    },
    {
     "name": "stdout",
     "output_type": "stream",
     "text": [
      "\n",
      "\n",
      "\u001b[1m> Entering new AgentExecutor chain...\u001b[0m\n",
      "\u001b[32;1m\u001b[1;3m今天是几月几号我需要查询当前日期,然后查询历史上的今天的名人出生信息。\n",
      "Action: Search\n",
      "Action Input: 今天是几月几号\u001b[0m\n",
      "Observation: \u001b[36;1m\u001b[1;3mWednesday, August 13, 2025\u001b[0m\n",
      "Thought:\u001b[32;1m\u001b[1;3m今天是8月13日。我需要查找历史上的8月13日有哪些名人出生。\n",
      "\n",
      "Action: Search  \n",
      "Action Input: 历史上的8月13日有哪些名人出生  \u001b[0m\n",
      "Observation: \u001b[36;1m\u001b[1;3m['31 · 歷史上的今天 · 2025年 2024年 2023年. 8月13日是陽曆年的第225天（閏年是226天 ... 1949年：伊澤多喜男，日本政治人物，第10任臺灣總督（1869年出生）; 1952年 ...', '8月13日是阳历年的第225天（闰年是226天），离一年的结束还有140天。它是每一公历年中的一个时间节点。除具有时间意义上的表达外，还有历史记载等作用。', '譚嘉儀，香港女歌手; MØ，丹麥女歌手; 富岡美沙子，日本女配音員; 基思·本森，美國籃球運動員. 1989年：王上豪，台灣男演員 ...', '1311年： (8月13日- 生日|出生). 阿方索十一世--- 雷昂和卡斯提亞國王. ◈ 1574年： (8月13日- 生日|出生). 山姆·德·尚普蘭--- 法國探險家、地理學家. ◈ 1625年： (8月13 ...', '出生 · 1503年：克里斯蒂安三世，丹麥、挪威國王。 · 1604年：德川家光，日本江戶幕府第3代征夷大將軍。 · 1724年：慶恭皇貴妃，清朝皇妃。 · 1762年：喬治四世，英國國王，漢諾瓦國王。', '菲德尔·卡斯特罗，古巴前领导人，杰出的马克思主义者，享誉世界的无产阶级革命家、政治家、思想家、军事家，是当今国际共产主义运动中最德高望重的领导人。上世纪50年代，领导 ...', '历史上农历8月13出生的名人 ... 00:00 604年8月13日，隋炀帝杨广暗害死文帝夺得帝位。 00:03 1905年8月13日，挪威成为独立国家。 ... 00:16 乾隆：8月13日。', '今天是8月13日，你知道和你同一天出生的名人偉人有哪些嗎?1878年8月13日，徐騮良誕生。徐騮良，又名策、張策，號勵身，海寧硤石人。', '1966年——著名歌唱家宋祖英出生於湖南省古丈縣宕頭寨。 1968年——素有“臺灣第一美女”的著名女星蕭薔出生。 1975年——胡海泉，羽泉組合之 ...', '2025年8月11日. 圖像顯示一名北韓工人戴著安全帽、穿著反光背心，. 朝鮮勞工：我們被送往俄羅斯從事「奴隸般的」工作. 2025年8月13日. 澤連斯基. 特朗普即將會見普京烏克蘭 ...']\u001b[0m\n",
      "Thought:\u001b[32;1m\u001b[1;3mFinal Answer: 今天是8月13日。历史上的8月13日出生的名人包括：\n",
      "\n",
      "- 1503年：克里斯蒂安三世（丹麦、挪威国王）\n",
      "- 1604年：德川家光（日本江户幕府第三代征夷大将军）\n",
      "- 1724年：庆恭皇贵妃（清朝皇妃）\n",
      "- 1762年：乔治四世（英国国王，汉诺瓦国王）\n",
      "- 1878年：徐骝良（中国名人）\n",
      "- 1966年：宋祖英（中国著名歌唱家）\n",
      "- 1968年：萧蔷（台湾著名女星）\n",
      "- 1975年：胡海泉（中国著名歌手，羽泉组合之一）\u001b[0m\n",
      "\n",
      "\u001b[1m> Finished chain.\u001b[0m\n"
     ]
    },
    {
     "data": {
      "text/plain": [
       "'今天是8月13日。历史上的8月13日出生的名人包括：\\n\\n- 1503年：克里斯蒂安三世（丹麦、挪威国王）\\n- 1604年：德川家光（日本江户幕府第三代征夷大将军）\\n- 1724年：庆恭皇贵妃（清朝皇妃）\\n- 1762年：乔治四世（英国国王，汉诺瓦国王）\\n- 1878年：徐骝良（中国名人）\\n- 1966年：宋祖英（中国著名歌唱家）\\n- 1968年：萧蔷（台湾著名女星）\\n- 1975年：胡海泉（中国著名歌手，羽泉组合之一）'"
      ]
     },
     "execution_count": 1,
     "metadata": {},
     "output_type": "execute_result"
    }
   ],
   "source": [
    "import os\n",
    "from langchain.agents import load_tools\n",
    "from langchain.agents import initialize_agent\n",
    "from langchain_community.llms import Tongyi  # 导入通义千问Tongyi模型\n",
    "from langchain.agents import AgentType\n",
    "import dashscope\n",
    "\n",
    "# 你需要在环境变量中添加 OPENAI_API_KEY 和 SERPAPI_API_KEY\n",
    "#os.environ[\"OPENAI_API_KEY\"] = '*******'\n",
    "#os.environ[\"SERPAPI_API_KEY\"] = '*******'\n",
    "# 从环境变量获取 dashscope 的 API Key\n",
    "api_key = os.environ.get('DASHSCOPE_API_KEY')\n",
    "dashscope.api_key = api_key\n",
    "\n",
    "# 加载模型\n",
    "llm = Tongyi(model_name=\"qwen-turbo\", dashscope_api_key=api_key)  # 使用通义千问qwen-turbo模型\n",
    "\n",
    "# 加载 serpapi 工具\n",
    "tools = load_tools([\"serpapi\"])\n",
    " \n",
    "\"\"\"\n",
    "agent：代理类型  \n",
    "    zero-shot-react-description: 根据工具的描述和请求内容的来决定使用哪个工具（最常用）\n",
    "    react-docstore: 使用 ReAct 框架和 docstore 交互, 使用Search 和Lookup 工具, 前者用来搜, 后者寻找term, 举例: Wipipedia 工具\n",
    "    self-ask-with-search 此代理只使用一个工具: Intermediate Answer, 它会为问题寻找事实答案(指的非 gpt 生成的答案, 而是在网络中,文本中已存在的), 如 Google search API 工具\n",
    "    conversational-react-description: 为会话设置而设计的代理, 它的prompt会被设计的具有会话性, 且还是会使用 ReAct 框架来决定使用来个工具, 并且将过往的会话交互存入内存\n",
    "\"\"\"\n",
    "# 工具加载后需要初始化，verbose=True 代表打印执行详情\n",
    "agent = initialize_agent(tools, llm, agent=AgentType.ZERO_SHOT_REACT_DESCRIPTION, verbose=True)\n",
    " \n",
    "# 运行 agent\n",
    "agent.run(\"今天是几月几号?历史上的今天有哪些名人出生\")"
   ]
  },
  {
   "cell_type": "code",
   "execution_count": 2,
   "id": "f8890f6e",
   "metadata": {},
   "outputs": [
    {
     "data": {
      "text/plain": [
       "'4c33b1096990e68263f0cc9e476eeaeeaeca5b0f21e09f314908283380448852'"
      ]
     },
     "execution_count": 2,
     "metadata": {},
     "output_type": "execute_result"
    }
   ],
   "source": [
    "os.getenv(\"SERPAPI_API_KEY\")"
   ]
  }
 ],
 "metadata": {
  "kernelspec": {
   "display_name": "Python 3 (ipykernel)",
   "language": "python",
   "name": "python3"
  },
  "language_info": {
   "codemirror_mode": {
    "name": "ipython",
    "version": 3
   },
   "file_extension": ".py",
   "mimetype": "text/x-python",
   "name": "python",
   "nbconvert_exporter": "python",
   "pygments_lexer": "ipython3",
   "version": "3.11.6"
  }
 },
 "nbformat": 4,
 "nbformat_minor": 5
}
