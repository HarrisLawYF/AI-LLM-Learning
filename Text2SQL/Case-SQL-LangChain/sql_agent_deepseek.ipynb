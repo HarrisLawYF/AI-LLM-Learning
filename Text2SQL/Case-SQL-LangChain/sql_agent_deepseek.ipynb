{
 "cells": [
  {
   "cell_type": "markdown",
   "id": "6b68edc5-77f7-4e4c-83b5-eb6c6de36f9a",
   "metadata": {},
   "source": [
    "## 使用DeepSeek进行数据表的查询"
   ]
  },
  {
   "cell_type": "code",
   "execution_count": 1,
   "id": "b2381dc3",
   "metadata": {},
   "outputs": [
    {
     "data": {
      "text/plain": [
       "<langchain_community.utilities.sql_database.SQLDatabase at 0x188bd6c8d50>"
      ]
     },
     "execution_count": 1,
     "metadata": {},
     "output_type": "execute_result"
    }
   ],
   "source": [
    "from langchain.agents import create_sql_agent\n",
    "from langchain.agents.agent_toolkits import SQLDatabaseToolkit\n",
    "from langchain.sql_database import SQLDatabase\n",
    "from langchain.llms.openai import OpenAI\n",
    "from langchain.agents import AgentExecutor\n",
    "\n",
    "db_user = \"student123\"\n",
    "db_password = \"student321\"\n",
    "#db_host = \"localhost:3306\"\n",
    "db_host = \"rm-uf6z891lon6dxuqblqo.mysql.rds.aliyuncs.com:3306\"\n",
    "db_name = \"action\"\n",
    "db = SQLDatabase.from_uri(f\"mysql+pymysql://{db_user}:{db_password}@{db_host}/{db_name}\")\n",
    "db"
   ]
  },
  {
   "cell_type": "code",
   "execution_count": 2,
   "id": "2e1f235d",
   "metadata": {},
   "outputs": [
    {
     "name": "stderr",
     "output_type": "stream",
     "text": [
      "C:\\Users\\cheny\\AppData\\Local\\Temp\\ipykernel_15276\\3561425379.py:8: LangChainDeprecationWarning: The class `ChatOpenAI` was deprecated in LangChain 0.0.10 and will be removed in 1.0. An updated version of the class exists in the :class:`~langchain-openai package and should be used instead. To use it run `pip install -U :class:`~langchain-openai` and import as `from :class:`~langchain_openai import ChatOpenAI``.\n",
      "  llm = ChatOpenAI(\n"
     ]
    }
   ],
   "source": [
    "from langchain.chat_models import ChatOpenAI\n",
    "import os\n",
    "\n",
    "# 从环境变量获取 dashscope 的 API Key\n",
    "api_key = os.environ.get('DASHSCOPE_API_KEY')\n",
    "\n",
    "# 通过LLM => 撰写SQL\n",
    "llm = ChatOpenAI(\n",
    "    temperature=0.01,\n",
    "    model=\"deepseek-v3\",  \n",
    "    #model = \"qwen-turbo\",\n",
    "    # openai_api_key = \"sk-9846f14a2104490b960adbf5c5b3b32e\",\n",
    "    # openai_api_base=\"https://api.deepseek.com\"\n",
    "    openai_api_base = \"https://dashscope.aliyuncs.com/compatible-mode/v1\",\n",
    "    openai_api_key  = api_key\n",
    ")\n",
    "\n",
    "# 需要设置llm\n",
    "toolkit = SQLDatabaseToolkit(db=db, llm=llm)\n",
    "\n",
    "# SQL智能体：给它目标，它自己会进行规划，最终把结果给你\n",
    "agent_executor = create_sql_agent(\n",
    "    llm=llm,\n",
    "    toolkit=toolkit,\n",
    "    verbose=True\n",
    ")"
   ]
  },
  {
   "cell_type": "code",
   "execution_count": 3,
   "id": "8d555755",
   "metadata": {},
   "outputs": [
    {
     "name": "stderr",
     "output_type": "stream",
     "text": [
      "C:\\Users\\cheny\\AppData\\Local\\Temp\\ipykernel_15276\\2182499378.py:2: LangChainDeprecationWarning: The method `Chain.run` was deprecated in langchain 0.1.0 and will be removed in 1.0. Use :meth:`~invoke` instead.\n",
      "  agent_executor.run(\"描述与订单相关的表及其关系\")\n"
     ]
    },
    {
     "name": "stdout",
     "output_type": "stream",
     "text": [
      "\n",
      "\n",
      "\u001b[1m> Entering new SQL Agent Executor chain...\u001b[0m\n",
      "\u001b[32;1m\u001b[1;3mAction: sql_db_list_tables\n",
      "Action Input: \"\"\u001b[0m\u001b[38;5;200m\u001b[1;3maddress, asset_grades, bank, car_sales, customers, dept, employee, form, height_grades, hero_score, heros, orders, person, player, player_score, student, team, team_score, test_work, trips, user, users, using, weather\u001b[0m\u001b[32;1m\u001b[1;3mI see that there is an \"orders\" table which is likely related to orders. I should also check if there are other tables that might be related to orders, such as \"customers\" or \"users\". I will query the schema of these tables to understand their structure and relationships.\n",
      "\n",
      "Action: sql_db_schema\n",
      "Action Input: \"orders, customers, users\"\u001b[0m\u001b[33;1m\u001b[1;3m\n",
      "CREATE TABLE customers (\n",
      "\t`Id` INTEGER, \n",
      "\t`Name` VARCHAR(255)\n",
      ")ENGINE=InnoDB DEFAULT CHARSET=utf8mb3\n",
      "\n",
      "/*\n",
      "3 rows from customers table:\n",
      "Id\tName\n",
      "1\tJoe\n",
      "2\tHenry\n",
      "3\tSam\n",
      "*/\n",
      "\n",
      "\n",
      "CREATE TABLE orders (\n",
      "\t`Id` INTEGER, \n",
      "\t`CustomerId` INTEGER\n",
      ")ENGINE=InnoDB DEFAULT CHARSET=utf8mb3\n",
      "\n",
      "/*\n",
      "3 rows from orders table:\n",
      "Id\tCustomerId\n",
      "1\t3\n",
      "2\t1\n",
      "*/\n",
      "\n",
      "\n",
      "CREATE TABLE users (\n",
      "\t`Users_Id` INTEGER, \n",
      "\t`Banned` VARCHAR(50), \n",
      "\t`Role` ENUM('client','driver','partner')\n",
      ")ENGINE=InnoDB DEFAULT CHARSET=utf8mb3\n",
      "\n",
      "/*\n",
      "3 rows from users table:\n",
      "Users_Id\tBanned\tRole\n",
      "1\tNo\tclient\n",
      "2\tYes\tclient\n",
      "3\tNo\tclient\n",
      "*/\u001b[0m\u001b[32;1m\u001b[1;3mFrom the schema, I can see the following about order-related tables and their relationships:\n",
      "\n",
      "1. **orders** table:\n",
      "   - Contains `Id` (order ID) and `CustomerId` (which references customers)\n",
      "   - Sample data shows orders belong to customers with IDs 3 and 1\n",
      "\n",
      "2. **customers** table:\n",
      "   - Contains `Id` (customer ID) and `Name` (customer name)\n",
      "   - The `CustomerId` in orders table references this `Id` field\n",
      "   - This establishes a one-to-many relationship where one customer can have many orders\n",
      "\n",
      "3. **users** table:\n",
      "   - Doesn't appear directly related to orders based on the schema shown\n",
      "   - Contains user information with roles like 'client', but no direct foreign key relationship with orders\n",
      "\n",
      "The key relationship is between:\n",
      "- `orders.CustomerId` (foreign key) → `customers.Id` (primary key)\n",
      "\n",
      "This means you can join these tables to find which customer placed which order. For example, order ID 1 was placed by customer ID 3 (Sam), and order ID 2 was placed by customer ID 1 (Joe).\n",
      "\n",
      "Final Answer: \n",
      "与订单相关的表主要是orders表和customers表，它们之间的关系是：orders表中的CustomerId字段作为外键，关联到customers表的Id主键。这种关系表示一个客户可以有多个订单（一对多关系）。users表虽然存在，但当前模式中没有显示与orders表的直接关联。\u001b[0m\n",
      "\n",
      "\u001b[1m> Finished chain.\u001b[0m\n"
     ]
    },
    {
     "data": {
      "text/plain": [
       "'与订单相关的表主要是orders表和customers表，它们之间的关系是：orders表中的CustomerId字段作为外键，关联到customers表的Id主键。这种关系表示一个客户可以有多个订单（一对多关系）。users表虽然存在，但当前模式中没有显示与orders表的直接关联。'"
      ]
     },
     "execution_count": 3,
     "metadata": {},
     "output_type": "execute_result"
    }
   ],
   "source": [
    "# Task: 描述数据表\n",
    "agent_executor.run(\"描述与订单相关的表及其关系\")"
   ]
  },
  {
   "cell_type": "code",
   "execution_count": 4,
   "id": "42b90d3c",
   "metadata": {},
   "outputs": [
    {
     "name": "stdout",
     "output_type": "stream",
     "text": [
      "\n",
      "\n",
      "\u001b[1m> Entering new SQL Agent Executor chain...\u001b[0m\n",
      "\u001b[32;1m\u001b[1;3mAction: sql_db_list_tables\n",
      "Action Input: \"\"\u001b[0m\u001b[38;5;200m\u001b[1;3maddress, asset_grades, bank, car_sales, customers, dept, employee, form, height_grades, hero_score, heros, orders, person, player, player_score, student, team, team_score, test_work, trips, user, users, using, weather\u001b[0m\u001b[32;1m\u001b[1;3mI see that there's a table called \"heros\" which might be related to \"HeroDetails\". I'll check the schema of this table to understand its structure.\n",
      "\n",
      "Action: sql_db_schema\n",
      "Action Input: \"heros\"\u001b[0m\u001b[33;1m\u001b[1;3m\n",
      "CREATE TABLE heros (\n",
      "\tid INTEGER NOT NULL AUTO_INCREMENT, \n",
      "\tname VARCHAR(255) CHARACTER SET utf8 COLLATE utf8_general_ci NOT NULL, \n",
      "\thp_max FLOAT, \n",
      "\thp_growth FLOAT, \n",
      "\thp_start FLOAT, \n",
      "\tmp_max FLOAT, \n",
      "\tmp_growth FLOAT, \n",
      "\tmp_start FLOAT, \n",
      "\tattack_max FLOAT, \n",
      "\tattack_growth FLOAT, \n",
      "\tattack_start FLOAT, \n",
      "\tdefense_max FLOAT, \n",
      "\tdefense_growth FLOAT, \n",
      "\tdefense_start FLOAT, \n",
      "\thp_5s_max FLOAT, \n",
      "\thp_5s_growth FLOAT, \n",
      "\thp_5s_start FLOAT, \n",
      "\tmp_5s_max FLOAT, \n",
      "\tmp_5s_growth FLOAT, \n",
      "\tmp_5s_start FLOAT, \n",
      "\tattack_speed_max FLOAT, \n",
      "\tattack_range VARCHAR(255) CHARACTER SET utf8 COLLATE utf8_general_ci, \n",
      "\trole_main VARCHAR(255) CHARACTER SET utf8 COLLATE utf8_general_ci, \n",
      "\trole_assist VARCHAR(255) CHARACTER SET utf8 COLLATE utf8_general_ci, \n",
      "\tbirthdate DATE, \n",
      "\tPRIMARY KEY (id)\n",
      ")ENGINE=InnoDB DEFAULT CHARSET=utf8mb3\n",
      "\n",
      "/*\n",
      "3 rows from heros table:\n",
      "id\tname\thp_max\thp_growth\thp_start\tmp_max\tmp_growth\tmp_start\tattack_max\tattack_growth\tattack_start\tdefense_max\tdefense_growth\tdefense_start\thp_5s_max\thp_5s_growth\thp_5s_start\tmp_5s_max\tmp_5s_growth\tmp_5s_start\tattack_speed_max\tattack_range\trole_main\trole_assist\tbirthdate\n",
      "10000\t夏侯惇\t7350.0\t288.8\t3307.0\t1746.0\t94.0\t430.0\t321.0\t11.57\t159.0\t397.0\t21.14\t101.0\t98.0\t3.357\t51.0\t37.0\t1.571\t15.0\t0.0\t近战\t坦克\t战士\t2016-07-19\n",
      "10001\t钟无艳\t7000.0\t275.0\t3150.0\t1760.0\t95.0\t430.0\t318.0\t11.0\t164.0\t409.0\t22.07\t100.0\t92.0\t3.143\t48.0\t37.0\t1.571\t15.0\t0.0\t近战\t战士\t坦克\t2021-05-01\n",
      "10002\t钟\t8341.0\t329.4\t3450.0\t100.0\t0.0\t100.0\t301.0\t10.57\t153.0\t504.0\t27.07\t125.0\t115.0\t4.143\t57.0\t5.0\t0.0\t5.0\t0.0\t近战\t坦克\t辅助\t2012-05-04\n",
      "*/\u001b[0m\u001b[32;1m\u001b[1;3mI now know the final answer\n",
      "Final Answer: The \"heros\" table (which appears to be the closest match to \"HeroDetails\") contains detailed information about heroes with the following columns:\n",
      "- Basic identifiers: id, name\n",
      "- Health points (HP) statistics: hp_max, hp_growth, hp_start\n",
      "- Magic points (MP) statistics: mp_max, mp_growth, mp_start\n",
      "- Attack statistics: attack_max, attack_growth, attack_start\n",
      "- Defense statistics: defense_max, defense_growth, defense_start\n",
      "- Regeneration stats: hp_5s_max, hp_5s_growth, hp_5s_start, mp_5s_max, mp_5s_growth, mp_5s_start\n",
      "- Combat attributes: attack_speed_max, attack_range\n",
      "- Role information: role_main, role_assist\n",
      "- Birthdate\n",
      "\n",
      "The table stores comprehensive game character attributes including growth rates, maximum values, and starting values for various combat metrics. Sample heroes include \"夏侯惇\" (Xiahou Dun), \"钟无艳\" (Zhong Wuyan), and \"钟\" (Zhong).\u001b[0m\n",
      "\n",
      "\u001b[1m> Finished chain.\u001b[0m\n"
     ]
    },
    {
     "data": {
      "text/plain": [
       "'The \"heros\" table (which appears to be the closest match to \"HeroDetails\") contains detailed information about heroes with the following columns:\\n- Basic identifiers: id, name\\n- Health points (HP) statistics: hp_max, hp_growth, hp_start\\n- Magic points (MP) statistics: mp_max, mp_growth, mp_start\\n- Attack statistics: attack_max, attack_growth, attack_start\\n- Defense statistics: defense_max, defense_growth, defense_start\\n- Regeneration stats: hp_5s_max, hp_5s_growth, hp_5s_start, mp_5s_max, mp_5s_growth, mp_5s_start\\n- Combat attributes: attack_speed_max, attack_range\\n- Role information: role_main, role_assist\\n- Birthdate\\n\\nThe table stores comprehensive game character attributes including growth rates, maximum values, and starting values for various combat metrics. Sample heroes include \"夏侯惇\" (Xiahou Dun), \"钟无艳\" (Zhong Wuyan), and \"钟\" (Zhong).'"
      ]
     },
     "execution_count": 4,
     "metadata": {},
     "output_type": "execute_result"
    }
   ],
   "source": [
    "# 这个任务，实际上数据库中 没有HeroDetails表\n",
    "agent_executor.run(\"描述HeroDetails表\")"
   ]
  },
  {
   "cell_type": "code",
   "execution_count": 5,
   "id": "2c1e15b5",
   "metadata": {},
   "outputs": [
    {
     "name": "stdout",
     "output_type": "stream",
     "text": [
      "\n",
      "\n",
      "\u001b[1m> Entering new SQL Agent Executor chain...\u001b[0m\n",
      "\u001b[32;1m\u001b[1;3mAction: sql_db_list_tables\n",
      "Action Input: \u001b[0m\u001b[38;5;200m\u001b[1;3maddress, asset_grades, bank, car_sales, customers, dept, employee, form, height_grades, hero_score, heros, orders, person, player, player_score, student, team, team_score, test_work, trips, user, users, using, weather\u001b[0m\u001b[32;1m\u001b[1;3mI see that there are tables named \"heros\" and \"hero_score\" which might be relevant to the question about a \"Hero\" table. I should check the schema of these tables to understand their structure.\n",
      "\n",
      "Action: sql_db_schema\n",
      "Action Input: heros, hero_score\u001b[0m\u001b[33;1m\u001b[1;3m\n",
      "CREATE TABLE hero_score (\n",
      "\tid INTEGER NOT NULL AUTO_INCREMENT, \n",
      "\tscore INTEGER NOT NULL DEFAULT '0', \n",
      "\tname VARCHAR(20) CHARACTER SET utf8mb4 COLLATE utf8mb4_0900_ai_ci, \n",
      "\tPRIMARY KEY (id)\n",
      ")COLLATE utf8mb4_0900_ai_ci ENGINE=InnoDB DEFAULT CHARSET=utf8mb4\n",
      "\n",
      "/*\n",
      "3 rows from hero_score table:\n",
      "id\tscore\tname\n",
      "1\t80\t张飞\n",
      "2\t95\t关羽\n",
      "3\t92\t刘备\n",
      "*/\n",
      "\n",
      "\n",
      "CREATE TABLE heros (\n",
      "\tid INTEGER NOT NULL AUTO_INCREMENT, \n",
      "\tname VARCHAR(255) CHARACTER SET utf8 COLLATE utf8_general_ci NOT NULL, \n",
      "\thp_max FLOAT, \n",
      "\thp_growth FLOAT, \n",
      "\thp_start FLOAT, \n",
      "\tmp_max FLOAT, \n",
      "\tmp_growth FLOAT, \n",
      "\tmp_start FLOAT, \n",
      "\tattack_max FLOAT, \n",
      "\tattack_growth FLOAT, \n",
      "\tattack_start FLOAT, \n",
      "\tdefense_max FLOAT, \n",
      "\tdefense_growth FLOAT, \n",
      "\tdefense_start FLOAT, \n",
      "\thp_5s_max FLOAT, \n",
      "\thp_5s_growth FLOAT, \n",
      "\thp_5s_start FLOAT, \n",
      "\tmp_5s_max FLOAT, \n",
      "\tmp_5s_growth FLOAT, \n",
      "\tmp_5s_start FLOAT, \n",
      "\tattack_speed_max FLOAT, \n",
      "\tattack_range VARCHAR(255) CHARACTER SET utf8 COLLATE utf8_general_ci, \n",
      "\trole_main VARCHAR(255) CHARACTER SET utf8 COLLATE utf8_general_ci, \n",
      "\trole_assist VARCHAR(255) CHARACTER SET utf8 COLLATE utf8_general_ci, \n",
      "\tbirthdate DATE, \n",
      "\tPRIMARY KEY (id)\n",
      ")ENGINE=InnoDB DEFAULT CHARSET=utf8mb3\n",
      "\n",
      "/*\n",
      "3 rows from heros table:\n",
      "id\tname\thp_max\thp_growth\thp_start\tmp_max\tmp_growth\tmp_start\tattack_max\tattack_growth\tattack_start\tdefense_max\tdefense_growth\tdefense_start\thp_5s_max\thp_5s_growth\thp_5s_start\tmp_5s_max\tmp_5s_growth\tmp_5s_start\tattack_speed_max\tattack_range\trole_main\trole_assist\tbirthdate\n",
      "10000\t夏侯惇\t7350.0\t288.8\t3307.0\t1746.0\t94.0\t430.0\t321.0\t11.57\t159.0\t397.0\t21.14\t101.0\t98.0\t3.357\t51.0\t37.0\t1.571\t15.0\t0.0\t近战\t坦克\t战士\t2016-07-19\n",
      "10001\t钟无艳\t7000.0\t275.0\t3150.0\t1760.0\t95.0\t430.0\t318.0\t11.0\t164.0\t409.0\t22.07\t100.0\t92.0\t3.143\t48.0\t37.0\t1.571\t15.0\t0.0\t近战\t战士\t坦克\t2021-05-01\n",
      "10002\t钟\t8341.0\t329.4\t3450.0\t100.0\t0.0\t100.0\t301.0\t10.57\t153.0\t504.0\t27.07\t125.0\t115.0\t4.143\t57.0\t5.0\t0.0\t5.0\t0.0\t近战\t坦克\t辅助\t2012-05-04\n",
      "*/\u001b[0m\u001b[32;1m\u001b[1;3mI now have the schema and sample data for both the \"heros\" and \"hero_score\" tables. The \"heros\" table appears to be the main table containing detailed information about heroes, while \"hero_score\" contains simpler score data for heroes.\n",
      "\n",
      "Final Answer: \n",
      "\n",
      "The \"heros\" table contains detailed information about heroes with the following columns:\n",
      "- id (primary key)\n",
      "- name (hero name)\n",
      "- Various hero attributes including:\n",
      "  - hp_max, hp_growth, hp_start (health points)\n",
      "  - mp_max, mp_growth, mp_start (magic points)\n",
      "  - attack_max, attack_growth, attack_start (attack stats)\n",
      "  - defense_max, defense_growth, defense_start (defense stats)\n",
      "  - hp_5s_max, hp_5s_growth, hp_5s_start (health regeneration)\n",
      "  - mp_5s_max, mp_5s_growth, mp_5s_start (magic regeneration)\n",
      "  - attack_speed_max\n",
      "  - attack_range\n",
      "  - role_main and role_assist (hero roles)\n",
      "  - birthdate\n",
      "\n",
      "Sample heroes include 夏侯惇 (Xiahou Dun), 钟无艳 (Zhong Wuyan), and 钟 (Zhong).\n",
      "\n",
      "The \"hero_score\" table is simpler, containing:\n",
      "- id (primary key)\n",
      "- score\n",
      "- name (hero name)\n",
      "\n",
      "Sample data shows scores for 张飞 (Zhang Fei), 关羽 (Guan Yu), and 刘备 (Liu Bei).\u001b[0m\n",
      "\n",
      "\u001b[1m> Finished chain.\u001b[0m\n"
     ]
    },
    {
     "data": {
      "text/plain": [
       "'The \"heros\" table contains detailed information about heroes with the following columns:\\n- id (primary key)\\n- name (hero name)\\n- Various hero attributes including:\\n  - hp_max, hp_growth, hp_start (health points)\\n  - mp_max, mp_growth, mp_start (magic points)\\n  - attack_max, attack_growth, attack_start (attack stats)\\n  - defense_max, defense_growth, defense_start (defense stats)\\n  - hp_5s_max, hp_5s_growth, hp_5s_start (health regeneration)\\n  - mp_5s_max, mp_5s_growth, mp_5s_start (magic regeneration)\\n  - attack_speed_max\\n  - attack_range\\n  - role_main and role_assist (hero roles)\\n  - birthdate\\n\\nSample heroes include 夏侯惇 (Xiahou Dun), 钟无艳 (Zhong Wuyan), and 钟 (Zhong).\\n\\nThe \"hero_score\" table is simpler, containing:\\n- id (primary key)\\n- score\\n- name (hero name)\\n\\nSample data shows scores for 张飞 (Zhang Fei), 关羽 (Guan Yu), and 刘备 (Liu Bei).'"
      ]
     },
     "execution_count": 5,
     "metadata": {},
     "output_type": "execute_result"
    }
   ],
   "source": [
    "agent_executor.run(\"描述Hero表\")"
   ]
  },
  {
   "cell_type": "code",
   "execution_count": 6,
   "id": "5c030007",
   "metadata": {},
   "outputs": [
    {
     "name": "stdout",
     "output_type": "stream",
     "text": [
      "\n",
      "\n",
      "\u001b[1m> Entering new SQL Agent Executor chain...\u001b[0m\n",
      "\u001b[32;1m\u001b[1;3mAction: sql_db_list_tables\n",
      "Action Input: \u001b[0m\u001b[38;5;200m\u001b[1;3maddress, asset_grades, bank, car_sales, customers, dept, employee, form, height_grades, hero_score, heros, orders, person, player, player_score, student, team, team_score, test_work, trips, user, users, using, weather\u001b[0m\u001b[32;1m\u001b[1;3mI see there are tables named \"heros\" and \"hero_score\" which are likely relevant to the question about heroes' attack power. I should check the schema of these tables to understand their structure.\n",
      "\n",
      "Action: sql_db_schema\n",
      "Action Input: heros, hero_score\u001b[0m\u001b[33;1m\u001b[1;3m\n",
      "CREATE TABLE hero_score (\n",
      "\tid INTEGER NOT NULL AUTO_INCREMENT, \n",
      "\tscore INTEGER NOT NULL DEFAULT '0', \n",
      "\tname VARCHAR(20) CHARACTER SET utf8mb4 COLLATE utf8mb4_0900_ai_ci, \n",
      "\tPRIMARY KEY (id)\n",
      ")COLLATE utf8mb4_0900_ai_ci ENGINE=InnoDB DEFAULT CHARSET=utf8mb4\n",
      "\n",
      "/*\n",
      "3 rows from hero_score table:\n",
      "id\tscore\tname\n",
      "1\t80\t张飞\n",
      "2\t95\t关羽\n",
      "3\t92\t刘备\n",
      "*/\n",
      "\n",
      "\n",
      "CREATE TABLE heros (\n",
      "\tid INTEGER NOT NULL AUTO_INCREMENT, \n",
      "\tname VARCHAR(255) CHARACTER SET utf8 COLLATE utf8_general_ci NOT NULL, \n",
      "\thp_max FLOAT, \n",
      "\thp_growth FLOAT, \n",
      "\thp_start FLOAT, \n",
      "\tmp_max FLOAT, \n",
      "\tmp_growth FLOAT, \n",
      "\tmp_start FLOAT, \n",
      "\tattack_max FLOAT, \n",
      "\tattack_growth FLOAT, \n",
      "\tattack_start FLOAT, \n",
      "\tdefense_max FLOAT, \n",
      "\tdefense_growth FLOAT, \n",
      "\tdefense_start FLOAT, \n",
      "\thp_5s_max FLOAT, \n",
      "\thp_5s_growth FLOAT, \n",
      "\thp_5s_start FLOAT, \n",
      "\tmp_5s_max FLOAT, \n",
      "\tmp_5s_growth FLOAT, \n",
      "\tmp_5s_start FLOAT, \n",
      "\tattack_speed_max FLOAT, \n",
      "\tattack_range VARCHAR(255) CHARACTER SET utf8 COLLATE utf8_general_ci, \n",
      "\trole_main VARCHAR(255) CHARACTER SET utf8 COLLATE utf8_general_ci, \n",
      "\trole_assist VARCHAR(255) CHARACTER SET utf8 COLLATE utf8_general_ci, \n",
      "\tbirthdate DATE, \n",
      "\tPRIMARY KEY (id)\n",
      ")ENGINE=InnoDB DEFAULT CHARSET=utf8mb3\n",
      "\n",
      "/*\n",
      "3 rows from heros table:\n",
      "id\tname\thp_max\thp_growth\thp_start\tmp_max\tmp_growth\tmp_start\tattack_max\tattack_growth\tattack_start\tdefense_max\tdefense_growth\tdefense_start\thp_5s_max\thp_5s_growth\thp_5s_start\tmp_5s_max\tmp_5s_growth\tmp_5s_start\tattack_speed_max\tattack_range\trole_main\trole_assist\tbirthdate\n",
      "10000\t夏侯惇\t7350.0\t288.8\t3307.0\t1746.0\t94.0\t430.0\t321.0\t11.57\t159.0\t397.0\t21.14\t101.0\t98.0\t3.357\t51.0\t37.0\t1.571\t15.0\t0.0\t近战\t坦克\t战士\t2016-07-19\n",
      "10001\t钟无艳\t7000.0\t275.0\t3150.0\t1760.0\t95.0\t430.0\t318.0\t11.0\t164.0\t409.0\t22.07\t100.0\t92.0\t3.143\t48.0\t37.0\t1.571\t15.0\t0.0\t近战\t战士\t坦克\t2021-05-01\n",
      "10002\t钟\t8341.0\t329.4\t3450.0\t100.0\t0.0\t100.0\t301.0\t10.57\t153.0\t504.0\t27.07\t125.0\t115.0\t4.143\t57.0\t5.0\t0.0\t5.0\t0.0\t近战\t坦克\t辅助\t2012-05-04\n",
      "*/\u001b[0m\u001b[32;1m\u001b[1;3mThe \"heros\" table contains the attack power information with columns like \"attack_max\", \"attack_growth\", and \"attack_start\". To find the top 5 heroes with the highest attack power, I should query the \"attack_max\" column from the \"heros\" table and order the results in descending order.\n",
      "\n",
      "Action: sql_db_query_checker\n",
      "Action Input: SELECT name, attack_max FROM heros ORDER BY attack_max DESC LIMIT 5\u001b[0m\u001b[36;1m\u001b[1;3mThe original query does not contain any of the common mistakes listed. Here is the reproduced original query:\n",
      "\n",
      "```sql\n",
      "SELECT name, attack_max FROM heros ORDER BY attack_max DESC LIMIT 5\n",
      "```\u001b[0m\u001b[32;1m\u001b[1;3mThe query looks correct and ready to execute. I will now run it to get the top 5 heroes with the highest attack power.\n",
      "\n",
      "Action: sql_db_query\n",
      "Action Input: SELECT name, attack_max FROM heros ORDER BY attack_max DESC LIMIT 5\u001b[0m\u001b[36;1m\u001b[1;3m[('阿轲', 427.0), ('孙尚香', 411.0), ('百里守约', 410.0), ('虞姬', 407.0), ('黄忠', 403.0)]\u001b[0m\u001b[32;1m\u001b[1;3mI now know the final answer\n",
      "Final Answer: 攻击力最高的前5个英雄是：阿轲(427)、孙尚香(411)、百里守约(410)、虞姬(407)、黄忠(403)。\u001b[0m\n",
      "\n",
      "\u001b[1m> Finished chain.\u001b[0m\n"
     ]
    },
    {
     "data": {
      "text/plain": [
       "'攻击力最高的前5个英雄是：阿轲(427)、孙尚香(411)、百里守约(410)、虞姬(407)、黄忠(403)。'"
      ]
     },
     "execution_count": 6,
     "metadata": {},
     "output_type": "execute_result"
    }
   ],
   "source": [
    "agent_executor.run(\"找出英雄攻击力最高的前5个英雄\")"
   ]
  },
  {
   "cell_type": "code",
   "execution_count": 9,
   "id": "a53b111b-6139-412e-ab65-00c73e342693",
   "metadata": {},
   "outputs": [],
   "source": [
    "#help(agent_executor.run)"
   ]
  }
 ],
 "metadata": {
  "kernelspec": {
   "display_name": "Python 3 (ipykernel)",
   "language": "python",
   "name": "python3"
  },
  "language_info": {
   "codemirror_mode": {
    "name": "ipython",
    "version": 3
   },
   "file_extension": ".py",
   "mimetype": "text/x-python",
   "name": "python",
   "nbconvert_exporter": "python",
   "pygments_lexer": "ipython3",
   "version": "3.11.6"
  }
 },
 "nbformat": 4,
 "nbformat_minor": 5
}
