{
 "cells": [
  {
   "cell_type": "code",
   "execution_count": 1,
   "id": "e181ad37-1e9b-4095-bd86-1d7fa4d39a6c",
   "metadata": {},
   "outputs": [
    {
     "name": "stdout",
     "output_type": "stream",
     "text": [
      "{\"status_code\": 200, \"request_id\": \"12c5235f-1acb-9f3c-bbdf-d860be800f44\", \"code\": \"\", \"message\": \"\", \"output\": {\"text\": null, \"finish_reason\": null, \"choices\": [{\"finish_reason\": \"stop\", \"message\": {\"role\": \"assistant\", \"content\": [{\"text\": \"这是一张上海迪士尼度假区的万圣节主题海报。海报上写着“万圣趴”和“Halloween Time 玩心大开 ROCK ON, WICKED FUN!”，表明这是一个以万圣节为主题的活动。海报中展示了多个迪士尼角色，包括唐老鸭、白雪公主、睡美人等，他们都穿着万圣节风格的服装，背景是上海迪士尼乐园的标志性城堡，城堡被灯光装饰得非常绚丽，营造出一种欢乐而神秘的氛围。海报上方有“SHANGHAI DISNEY RESORT”的字样，表明这是在上海迪士尼度假区举办的活动。整体设计充满了节日的喜庆和恐怖元素，吸引游客参与这个特别的万圣节庆祝活动。\"}]}}]}, \"usage\": {\"input_tokens\": 459, \"output_tokens\": 155, \"input_tokens_details\": {\"image_tokens\": 434, \"text_tokens\": 25}, \"prompt_tokens_details\": {\"cached_tokens\": 0}, \"total_tokens\": 614, \"output_tokens_details\": {\"text_tokens\": 155}, \"image_tokens\": 434}}\n"
     ]
    }
   ],
   "source": [
    "import json\n",
    "import os\n",
    "import dashscope\n",
    "from dashscope.api_entities.dashscope_response import Role\n",
    "from dashscope import MultiModalConversation\n",
    "import os\n",
    "dashscope.api_key = os.getenv(\"DASHSCOPE_API_KEY\")\n",
    "\n",
    "local_file_path = 'file://2-万圣节.jpeg'\n",
    "messages = [{\n",
    "    'role': 'system',\n",
    "    'content': [{\n",
    "        'text': 'You are a helpful assistant.'\n",
    "    }]\n",
    "}, {\n",
    "    'role':\n",
    "    'user',\n",
    "    'content': [\n",
    "        {\n",
    "            'image': local_file_path\n",
    "        },\n",
    "        {\n",
    "            'text': '这是一张什么海报？'\n",
    "        },\n",
    "    ]\n",
    "}]\n",
    "response = MultiModalConversation.call(model='qwen-vl-plus', messages=messages)\n",
    "print(response)"
   ]
  }
 ],
 "metadata": {
  "kernelspec": {
   "display_name": "Python 3 (ipykernel)",
   "language": "python",
   "name": "python3"
  },
  "language_info": {
   "codemirror_mode": {
    "name": "ipython",
    "version": 3
   },
   "file_extension": ".py",
   "mimetype": "text/x-python",
   "name": "python",
   "nbconvert_exporter": "python",
   "pygments_lexer": "ipython3",
   "version": "3.11.6"
  }
 },
 "nbformat": 4,
 "nbformat_minor": 5
}
